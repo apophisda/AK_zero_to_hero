{
 "cells": [
  {
   "cell_type": "code",
   "execution_count": 2,
   "id": "d3f5cd6d-b6bc-42e2-b6fc-f50e9e25bf70",
   "metadata": {},
   "outputs": [],
   "source": [
    "import torch\n",
    "import torch.nn.functional as F\n",
    "import matplotlib.pyplot as plt\n",
    "%matplotlib inline"
   ]
  },
  {
   "cell_type": "code",
   "execution_count": 3,
   "id": "dd1b3f25-b432-4085-b88f-31dd46d11e75",
   "metadata": {},
   "outputs": [],
   "source": [
    "#HYPERPARAMETERS\n",
    "n1 = 100 #it is number of neurons in first layer\n",
    "n2 = 27 #number of output class (but it is kind of obvious so not sure if it is needed to make it hyperparameter"
   ]
  },
  {
   "cell_type": "code",
   "execution_count": 4,
   "id": "34e90971-0a01-4bf8-8417-c3706cb0ed29",
   "metadata": {},
   "outputs": [],
   "source": [
    "words = open('names.txt', 'r').read().splitlines()\n"
   ]
  },
  {
   "cell_type": "code",
   "execution_count": 4,
   "id": "a3401238-8c75-4281-a9e1-a725a5eb726d",
   "metadata": {},
   "outputs": [
    {
     "data": {
      "text/plain": [
       "['emma', 'olivia', 'ava', 'isabella', 'sophia', 'charlotte', 'mia', 'amelia']"
      ]
     },
     "execution_count": 4,
     "metadata": {},
     "output_type": "execute_result"
    }
   ],
   "source": [
    "words[:8]"
   ]
  },
  {
   "cell_type": "code",
   "execution_count": 5,
   "id": "e9b8ee33-6ec6-4db6-a342-96a51c7422b0",
   "metadata": {
    "scrolled": true
   },
   "outputs": [
    {
     "name": "stdout",
     "output_type": "stream",
     "text": [
      "{1: 'a', 2: 'b', 3: 'c', 4: 'd', 5: 'e', 6: 'f', 7: 'g', 8: 'h', 9: 'i', 10: 'j', 11: 'k', 12: 'l', 13: 'm', 14: 'n', 15: 'o', 16: 'p', 17: 'q', 18: 'r', 19: 's', 20: 't', 21: 'u', 22: 'v', 23: 'w', 24: 'x', 25: 'y', 26: 'z', 0: '.'}\n"
     ]
    }
   ],
   "source": [
    "chars = sorted(list(set(''.join(words))))\n",
    "stoi = {s:i+1 for i,s in enumerate(chars)}\n",
    "stoi['.'] = 0\n",
    "itos = {i:s for s,i in stoi.items()}\n",
    "print(itos)"
   ]
  },
  {
   "cell_type": "code",
   "execution_count": null,
   "id": "a990baf0-7e8d-459e-b5a4-df9d04d3fbf0",
   "metadata": {},
   "outputs": [],
   "source": [
    "#-----this is just rough"
   ]
  },
  {
   "cell_type": "raw",
   "id": "634b0294-43ae-4c34-b319-ca16146e07dd",
   "metadata": {},
   "source": [
    "there are some rules to broadcasting. here W1 is 32, 100 right and b1 is 100 soo how does it broadcast.\n",
    "the rule is the one we are trying to broadcast align on right and then it create a fake dimension of 1:\n",
    "32 100 (W1)\n",
    "1* 100 (b1)"
   ]
  },
  {
   "cell_type": "code",
   "execution_count": 51,
   "id": "265782e4-4b93-4bd6-bc56-384d29bd6aa1",
   "metadata": {},
   "outputs": [
    {
     "data": {
      "text/plain": [
       "torch.Size([32, 100])"
      ]
     },
     "execution_count": 51,
     "metadata": {},
     "output_type": "execute_result"
    }
   ],
   "source": [
    "h = torch.tanh(emb.view(-1, emb.shape[1]*emb.shape[2]) @ W1 + b1)\n",
    "h.shape"
   ]
  },
  {
   "cell_type": "code",
   "execution_count": 53,
   "id": "768c5898-16a2-42a3-96c8-5de9969bb8b5",
   "metadata": {},
   "outputs": [
    {
     "data": {
      "text/plain": [
       "(torch.Size([100, 27]), torch.Size([27]))"
      ]
     },
     "execution_count": 53,
     "metadata": {},
     "output_type": "execute_result"
    }
   ],
   "source": [
    "W2 = torch.randn((h.shape[1], n2)) #here n2 is 27\n",
    "b2 = torch.randn(n2)\n",
    "W2.shape, b2.shape"
   ]
  },
  {
   "cell_type": "code",
   "execution_count": 55,
   "id": "1c837fe0-889f-452a-a51f-baab737fcaa5",
   "metadata": {},
   "outputs": [
    {
     "data": {
      "text/plain": [
       "torch.Size([32, 27])"
      ]
     },
     "execution_count": 55,
     "metadata": {},
     "output_type": "execute_result"
    }
   ],
   "source": [
    "logits = h @ W2 + b2\n",
    "logits.shape"
   ]
  },
  {
   "cell_type": "code",
   "execution_count": 56,
   "id": "b48da1c4-22c9-4b5a-8d99-e7bcdd7e711e",
   "metadata": {},
   "outputs": [],
   "source": [
    "counts  = logits.exp()\n",
    "prob = counts/counts.sum(1, keepdims=True)"
   ]
  },
  {
   "cell_type": "code",
   "execution_count": 65,
   "id": "d271e768-8d12-44bc-a8f7-a8b9466a9cf3",
   "metadata": {},
   "outputs": [],
   "source": [
    "loss = -(prob[torch.arange(32), Y]).log().mean()\n"
   ]
  },
  {
   "cell_type": "code",
   "execution_count": 89,
   "id": "d5df4d89-b980-4b5e-93d6-421de4a4011a",
   "metadata": {},
   "outputs": [],
   "source": [
    "#--------------now made more respectable :) -------"
   ]
  },
  {
   "cell_type": "code",
   "execution_count": 17,
   "id": "97b77fda-90ed-474d-b85c-94a18669413f",
   "metadata": {},
   "outputs": [],
   "source": [
    "# X = []\n",
    "# Y = []\n",
    "# block_size = 3\n",
    "# for w in words:\n",
    "#     context = [0]*block_size\n",
    "#     #print(w)\n",
    "#     for ch in w + '.':\n",
    "#         ix = stoi[ch]\n",
    "#         X.append(context)\n",
    "#         Y.append(ix)\n",
    "#         #print(''.join([itos[i] for i in context]), '--->',ch)\n",
    "#         context = context[1:] + [ix]\n",
    "# X = torch.tensor(X)\n",
    "# Y = torch.tensor(Y)\n"
   ]
  },
  {
   "cell_type": "code",
   "execution_count": 11,
   "id": "02b7fd2b-fdb9-4ca4-a4d4-17a56883a794",
   "metadata": {},
   "outputs": [
    {
     "data": {
      "text/plain": [
       "(torch.Size([228146, 3]), torch.int64, torch.Size([228146]), torch.int64)"
      ]
     },
     "execution_count": 11,
     "metadata": {},
     "output_type": "execute_result"
    }
   ],
   "source": [
    "# X.shape, X.dtype, Y.shape, Y.dtype"
   ]
  },
  {
   "cell_type": "code",
   "execution_count": 61,
   "id": "0b588d5f-84dc-4fc8-bf0c-1cdde9f24c03",
   "metadata": {},
   "outputs": [
    {
     "name": "stdout",
     "output_type": "stream",
     "text": [
      "torch.Size([182437, 3]) torch.Size([182437])\n",
      "torch.Size([22781, 3]) torch.Size([22781])\n",
      "torch.Size([22928, 3]) torch.Size([22928])\n"
     ]
    }
   ],
   "source": [
    "#splitting the dataset into train development/validation and test set 80:10:10\n",
    "def build_dataset(words):\n",
    "    X = []\n",
    "    Y = []\n",
    "    block_size = 3\n",
    "    for w in words:\n",
    "        context = [0]*block_size\n",
    "        #print(w)\n",
    "        for ch in w + '.':\n",
    "            ix = stoi[ch]\n",
    "            X.append(context)\n",
    "            Y.append(ix)\n",
    "            #print(''.join([itos[i] for i in context]), '--->',ch)\n",
    "            context = context[1:] + [ix]\n",
    "    X = torch.tensor(X)\n",
    "    Y = torch.tensor(Y)\n",
    "    print(X.shape, Y.shape)\n",
    "    return X,Y\n",
    "\n",
    "import random\n",
    "random.seed(42)\n",
    "random.shuffle(words)\n",
    "n1 = int(0.8*len(words))\n",
    "n2 = int(0.9*len(words))\n",
    "\n",
    "Xtr, Ytr = build_dataset(words[:n1])\n",
    "Xdev, Ydev = build_dataset(words[n1:n2])\n",
    "Xte, Yte = build_dataset(words[n2:])"
   ]
  },
  {
   "cell_type": "raw",
   "id": "36d2c603-50cf-42bb-bd85-f9117bccb634",
   "metadata": {},
   "source": [
    "one of the reason we are using F.cross_entropy rather than explicitly implementing softmax can be attributed to followin:\n",
    "the intermediate tensors Created takes memory and can be bit inefficient but how pytorch implements sort max or cross entropy it fuses kernels and reduce the memory. Also we run into a problem of overflow (cause exp of large positive integer will cause overflow) while implementing soft max but pytorch internal library deals with it. So to summarize there are many reasons to call cross entropy as the forward paths can be more efficient and the backward path can be more efficient we are not going to run into a problem of memory overflow and unnecessary tensors and not created which occupy memory"
   ]
  },
  {
   "cell_type": "code",
   "execution_count": 57,
   "id": "fd5d9159-0b9b-4454-b532-75a0160268b1",
   "metadata": {},
   "outputs": [],
   "source": [
    "#HYPERPARAMETERS\n",
    "NUM_OF_CLASS = 27\n",
    "EMBEDDING_DIM = 10\n",
    "NEURONSL1 = 100\n",
    "WINDOW_SIZE = 3\n",
    "LR = 0.1"
   ]
  },
  {
   "cell_type": "code",
   "execution_count": 58,
   "id": "9989c5aa-7794-4db1-ab24-12007d4eeca9",
   "metadata": {},
   "outputs": [],
   "source": [
    "\n",
    "g = torch.Generator().manual_seed(2147483647) # for reproducibility\n",
    "C = torch.randn((NUM_OF_CLASS, EMBEDDING_DIM), generator=g)\n",
    "W1 = torch.randn((EMBEDDING_DIM*WINDOW_SIZE, NEURONSL1), generator=g)\n",
    "b1 = torch.randn(NEURONSL1, generator=g)\n",
    "W2 = torch.randn((NEURONSL1, NUM_OF_CLASS), generator=g)\n",
    "b2 = torch.randn(NUM_OF_CLASS, generator=g)\n",
    "parameters = [C, W1, b1, W2, b2]"
   ]
  },
  {
   "cell_type": "code",
   "execution_count": 59,
   "id": "dc4ffe86-5238-48ed-a6fd-e6bd546dbab8",
   "metadata": {},
   "outputs": [
    {
     "data": {
      "text/plain": [
       "6097"
      ]
     },
     "execution_count": 59,
     "metadata": {},
     "output_type": "execute_result"
    }
   ],
   "source": [
    "sum(p.nelement() for p in parameters)"
   ]
  },
  {
   "cell_type": "code",
   "execution_count": 60,
   "id": "69aeb4d2-f551-4a8a-b425-c1d342848705",
   "metadata": {},
   "outputs": [],
   "source": [
    "for p in parameters:\n",
    "    p.requires_grad = True"
   ]
  },
  {
   "cell_type": "raw",
   "id": "b0301c97-ebe7-45d4-83d0-51fc882e3541",
   "metadata": {},
   "source": [
    "WE ARE JUST TRYING TO IMPLEMENT THE CONCEPT OF MINI BATCHES IN SOME OTHER WAY\n",
    "\n",
    "Great question — and your instincts are mostly on point. You're trying to create mini-batches using torch.randint, which does generate random indices, but it doesn't guarantee that you cycle through all datapoints — and that's a key issue for training.\n",
    "num_data = 10000\n",
    "batch_size = 50\n",
    "\n",
    "# Step 1: create all indices\n",
    "indices = torch.randperm(num_data)  # No replacement, full shuffle\n",
    "\n",
    "# Step 2: loop over mini-batches\n",
    "for i in range(0, num_data, batch_size):\n",
    "    ix = indices[i:i+batch_size]\n",
    "    batch = X[ix]\n",
    "    # Do training with batch...\n"
   ]
  },
  {
   "cell_type": "code",
   "execution_count": 62,
   "id": "5cef1bf7-90ff-463b-9a5d-9b0fa1ba6544",
   "metadata": {},
   "outputs": [
    {
     "data": {
      "text/plain": [
       "(torch.Size([182437, 3]), torch.Size([182437]))"
      ]
     },
     "execution_count": 62,
     "metadata": {},
     "output_type": "execute_result"
    }
   ],
   "source": [
    "Xtr.shape, Ytr.shape"
   ]
  },
  {
   "cell_type": "code",
   "execution_count": 63,
   "id": "f86c2245-dffd-4bc2-860b-ae792f4fed85",
   "metadata": {
    "scrolled": true
   },
   "outputs": [
    {
     "name": "stdout",
     "output_type": "stream",
     "text": [
      "3.372636556625366\n"
     ]
    }
   ],
   "source": [
    "for _ in range(3000):\n",
    "    #-----constructing minibatch\n",
    "    ix = torch.randint(0,Xtr.shape[0], (32,))\n",
    "    \n",
    "    #----forward pass\n",
    "    emb = C[Xtr[ix]]\n",
    "    h = torch.tanh(emb.view(-1, EMBEDDING_DIM*WINDOW_SIZE) @ W1 + b1)\n",
    "    logits = h @ W2 + b2\n",
    "    loss = F.cross_entropy(logits, Ytr[ix])\n",
    "    #print(loss.item())\n",
    "    #-----backward pass\n",
    "    for p in parameters:\n",
    "        p.grad = None\n",
    "    loss.backward()\n",
    "    \n",
    "    #-----update parameters\n",
    "    for p in parameters:\n",
    "        p.data += -LR*p.grad\n",
    "print(loss.item())"
   ]
  },
  {
   "cell_type": "code",
   "execution_count": 47,
   "id": "e699040a-5f92-44fc-b2cd-375b3a544072",
   "metadata": {},
   "outputs": [
    {
     "data": {
      "text/plain": [
       "tensor(2.5471, grad_fn=<NllLossBackward0>)"
      ]
     },
     "execution_count": 47,
     "metadata": {},
     "output_type": "execute_result"
    }
   ],
   "source": [
    "#--dev loss\n",
    "emb = C[Xdev] # (32, 3, 2)\n",
    "h = torch.tanh(emb.view(-1, EMBEDDING_DIM*WINDOW_SIZE) @ W1 + b1) # (32, 100)\n",
    "logits = h @ W2 + b2 # (32, 27)\n",
    "loss = F.cross_entropy(logits, Ydev)\n",
    "loss"
   ]
  },
  {
   "cell_type": "code",
   "execution_count": 64,
   "id": "090aa603-9015-4c5f-8c4a-646b7bb826ef",
   "metadata": {},
   "outputs": [
    {
     "data": {
      "text/plain": [
       "tensor(2.6595, grad_fn=<NllLossBackward0>)"
      ]
     },
     "execution_count": 64,
     "metadata": {},
     "output_type": "execute_result"
    }
   ],
   "source": [
    "#--test set\n",
    "emb = C[Xte] # (32, 3, 2)\n",
    "h = torch.tanh(emb.view(-1, EMBEDDING_DIM*WINDOW_SIZE) @ W1 + b1) # (32, 100)\n",
    "logits = h @ W2 + b2 # (32, 27)\n",
    "loss = F.cross_entropy(logits, Yte)\n",
    "loss"
   ]
  },
  {
   "cell_type": "code",
   "execution_count": 49,
   "id": "05725a75-fb91-4a9b-b837-48f2ec4c205f",
   "metadata": {},
   "outputs": [
    {
     "data": {
      "image/png": "[encoded data removed]",
      "text/plain": [
       "<Figure size 800x800 with 1 Axes>"
      ]
     },
     "metadata": {},
     "output_type": "display_data"
    }
   ],
   "source": [
    "# visualize dimensions 0 and 1 of the embedding matrix C for all characters\n",
    "plt.figure(figsize=(8,8))\n",
    "plt.scatter(C[:,0].data, C[:,1].data, s=200)\n",
    "for i in range(C.shape[0]):\n",
    "    plt.text(C[i,0].item(), C[i,1].item(), itos[i], ha=\"center\", va=\"center\", color='white')\n",
    "plt.grid('minor')"
   ]
  },
  {
   "cell_type": "code",
   "execution_count": 55,
   "id": "fd0e6afb-ebce-404c-88f6-c54c25df41d5",
   "metadata": {},
   "outputs": [
    {
     "name": "stdout",
     "output_type": "stream",
     "text": [
      "malhe.\n",
      "cokiyotsilai.\n",
      "ndte.\n",
      "jse.\n",
      "tat.\n",
      "bare.\n",
      "bvairti.\n",
      "kplssgznasit.\n",
      "shat.\n",
      "tarh.\n"
     ]
    }
   ],
   "source": [
    "for _ in range(10):\n",
    "    out = []\n",
    "    context = [0]*WINDOW_SIZE\n",
    "    while True:\n",
    "        emb = C[torch.tensor([context])]\n",
    "        h = torch.tanh(emb.view(1, -1) @ W1 + b1)\n",
    "        logits = h @ W2 + b2\n",
    "        probs = F.softmax(logits, dim=1)\n",
    "        ix = torch.multinomial(probs, num_samples=1, generator=g).item()\n",
    "        context = context[1:] + [ix]\n",
    "        out.append(ix)\n",
    "        if ix == 0:\n",
    "            break\n",
    "        \n",
    "    print(''.join(itos[i] for i in out))"
   ]
  },
  {
   "cell_type": "code",
   "execution_count": 56,
   "id": "fcfe6f47-4b15-41db-b7de-ad606734210d",
   "metadata": {},
   "outputs": [
    {
     "data": {
      "text/plain": [
       "torch.Size([27, 2])"
      ]
     },
     "execution_count": 56,
     "metadata": {},
     "output_type": "execute_result"
    }
   ],
   "source": [
    "C.shape"
   ]
  },
  {
   "cell_type": "code",
   "execution_count": 71,
   "id": "f5b474af-2e46-4751-bd0f-473b1b13be15",
   "metadata": {},
   "outputs": [
    {
     "data": {
      "image/png": "[encoded data removed]",
      "text/plain": [
       "<Figure size 800x800 with 1 Axes>"
      ]
     },
     "metadata": {},
     "output_type": "display_data"
    }
   ],
   "source": [
    "P = C - C.mean(dim=0)\n",
    "U, S, V = torch.linalg.svd(P)\n",
    "L = P @ V[:, :2]  # Projection to 2D\n",
    "plt.figure(figsize=(8,8))\n",
    "plt.scatter(L[:,0].data, L[:,1].data, s=200)\n",
    "for i in range(C.shape[0]):\n",
    "    plt.text(L[i,0].item(), L[i,1].item(), itos[i], ha=\"center\", va=\"center\", color='white')\n",
    "plt.grid('minor')"
   ]
  },
  {
   "cell_type": "code",
   "execution_count": null,
   "id": "363795c4-ecd4-4008-a217-54c2a5b3be97",
   "metadata": {},
   "outputs": [],
   "source": []
  }
 ],
 "metadata": {
  "kernelspec": {
   "display_name": "Python 3 (ipykernel)",
   "language": "python",
   "name": "python3"
  },
  "language_info": {
   "codemirror_mode": {
    "name": "ipython",
    "version": 3
   },
   "file_extension": ".py",
   "mimetype": "text/x-python",
   "name": "python",
   "nbconvert_exporter": "python",
   "pygments_lexer": "ipython3",
   "version": "3.13.2"
  }
 },
 "nbformat": 4,
 "nbformat_minor": 5
}
