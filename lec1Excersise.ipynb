{
 "cells": [
  {
   "cell_type": "raw",
   "id": "6c6e8938-61e4-4536-8dbf-6384f997f090",
   "metadata": {},
   "source": [
    "E01: train a trigram language model, i.e. take two characters as an input to predict the 3rd one. Feel free to use either counting or a neural net. Evaluate the loss; Did it improve over a bigram model?\n",
    "E02: split up the dataset randomly into 80% train set, 10% dev set, 10% test set. Train the bigram and trigram models only on the training set. Evaluate them on dev and test splits. What can you see?\n",
    "E03: use the dev set to tune the strength of smoothing (or regularization) for the trigram model - i.e. try many possibilities and see which one works best based on the dev set loss. What patterns can you see in the train and dev set loss as you tune this strength? Take the best setting of the smoothing and evaluate on the test set once and at the end. How good of a loss do you achieve?\n",
    "E04: we saw that our 1-hot vectors merely select a row of W, so producing these vectors explicitly feels wasteful. Can you delete our use of F.one_hot in favor of simply indexing into rows of W?\n",
    "E05: look up and use F.cross_entropy instead. You should achieve the same result. Can you think of why we'd prefer to use F.cross_entropy instead?\n",
    "E06: meta-exercise! Think of a fun/interesting exercise and complete it."
   ]
  },
  {
   "cell_type": "markdown",
   "id": "96cb2988-101e-4c3f-9aec-ee997d5b7b83",
   "metadata": {},
   "source": [
    "# E01"
   ]
  },
  {
   "cell_type": "code",
   "execution_count": 1,
   "id": "cc0ae9a6-b4fe-4225-b13f-564872d17b32",
   "metadata": {},
   "outputs": [],
   "source": [
    "words = open('names.txt', 'r').read().splitlines()"
   ]
  },
  {
   "cell_type": "code",
   "execution_count": 25,
   "id": "a3c927d1-d729-4210-bbaa-6a11a23324b9",
   "metadata": {},
   "outputs": [
    {
     "data": {
      "text/plain": [
       "['emma', 'olivia']"
      ]
     },
     "execution_count": 25,
     "metadata": {},
     "output_type": "execute_result"
    }
   ],
   "source": [
    "words[:2]"
   ]
  },
  {
   "cell_type": "code",
   "execution_count": 4,
   "id": "a4075a4f-8e3b-4312-a458-d97171e024eb",
   "metadata": {},
   "outputs": [],
   "source": [
    "import torch"
   ]
  },
  {
   "cell_type": "code",
   "execution_count": 22,
   "id": "9fcb1cf8-eb8e-4a53-b49a-e1975388c963",
   "metadata": {},
   "outputs": [],
   "source": [
    "N = torch.zeros((29,29,29), dtype=torch.int32)"
   ]
  },
  {
   "cell_type": "code",
   "execution_count": 23,
   "id": "815d618e-8b60-4c72-a89c-b4f8583e2b04",
   "metadata": {},
   "outputs": [],
   "source": [
    "chars = sorted(list(set(''.join(words))))\n",
    "stoi = {s:i+2 for i,s in enumerate(chars)}\n",
    "stoi['.'] = 0\n",
    "stoi[','] = 1\n",
    "stoi['$'] = 28\n",
    "itos = {i:s for s,i in stoi.items()}\n"
   ]
  },
  {
   "cell_type": "code",
   "execution_count": 24,
   "id": "d4e6eed2-5474-4b35-ba90-bdd1a5cde284",
   "metadata": {},
   "outputs": [],
   "source": [
    "for w in words:\n",
    "    chs = ['.'] + [','] + list(w) + ['$']\n",
    "    for ch1, ch2, ch3 in zip(chs, chs[1:], chs[2:]):\n",
    "        idx1 = stoi[ch1]\n",
    "        idx2 = stoi[ch2]\n",
    "        idx3 = stoi[ch3]\n",
    "        N[idx1, idx2, idx3] += 1"
   ]
  },
  {
   "cell_type": "code",
   "execution_count": 31,
   "id": "391dd2f5-f305-44e3-9929-b64f66c99c1c",
   "metadata": {},
   "outputs": [
    {
     "data": {
      "text/plain": [
       "torch.Size([29])"
      ]
     },
     "execution_count": 31,
     "metadata": {},
     "output_type": "execute_result"
    }
   ],
   "source": [
    "N[stoi['.'],stoi[','], :].shape"
   ]
  },
  {
   "cell_type": "code",
   "execution_count": 32,
   "id": "81c788c9-fc36-4fa9-8fa9-1608cc76500f",
   "metadata": {},
   "outputs": [],
   "source": [
    "g = torch.Generator().manual_seed(2147483647)"
   ]
  },
  {
   "cell_type": "code",
   "execution_count": 37,
   "id": "d8269c17-1c14-49ec-ba47-cb60e6f5f83e",
   "metadata": {},
   "outputs": [
    {
     "name": "stdout",
     "output_type": "stream",
     "text": [
      "koby\n",
      "cio\n",
      "kelizabayzertha\n",
      "sharia\n",
      "estylark\n"
     ]
    }
   ],
   "source": [
    "for _ in range(5):\n",
    "    lst = []\n",
    "    idx1=0\n",
    "    idx2=1\n",
    "    while True:\n",
    "        idx3 = torch.multinomial(N[idx1, idx2, :].float(), num_samples=1, replacement=True, generator=g).item()\n",
    "        if idx3 == 28:\n",
    "            break\n",
    "        lst.append(itos[idx3])\n",
    "        idx1 = idx2\n",
    "        idx2 = idx3\n",
    "    print(''.join(lst))"
   ]
  },
  {
   "cell_type": "markdown",
   "id": "6a8dd5f1-3de2-486d-ac8a-0e5c8eb6ccf4",
   "metadata": {},
   "source": [
    "### trying the NN way"
   ]
  },
  {
   "cell_type": "code",
   "execution_count": null,
   "id": "51147901-ed71-44c5-813c-1c24c7a4d850",
   "metadata": {},
   "outputs": [],
   "source": []
  }
 ],
 "metadata": {
  "kernelspec": {
   "display_name": "Python 3 (ipykernel)",
   "language": "python",
   "name": "python3"
  },
  "language_info": {
   "codemirror_mode": {
    "name": "ipython",
    "version": 3
   },
   "file_extension": ".py",
   "mimetype": "text/x-python",
   "name": "python",
   "nbconvert_exporter": "python",
   "pygments_lexer": "ipython3",
   "version": "3.13.2"
  }
 },
 "nbformat": 4,
 "nbformat_minor": 5
}
